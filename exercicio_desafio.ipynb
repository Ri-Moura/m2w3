{
 "cells": [
  {
   "attachments": {},
   "cell_type": "markdown",
   "metadata": {},
   "source": [
    "## Enunciado\n",
    "\n",
    "Uma empresa possui várias lojas que fornecem diferentes tipos de produtos. As informações das lojas são armazenadas na tabela \"loja\", conforme mostrado abaixo:\n",
    "\n",
    "'''\n",
    "CREATE TABLE loja (\n",
    "    id INT,\n",
    "    nome VARCHAR(150) NOT NULL,\n",
    "    endereco VARCHAR(150),\n",
    "    produtos VARCHAR(20)\n",
    ");\n",
    "'''\n",
    "\n",
    "#### As colunas representam o seguinte:\n",
    "\n",
    "id: identificador único da loja;\n",
    "nome: nome da loja;\n",
    "endereco: endereço da loja;\n",
    "produtos: tipo de produto que a loja fornece.\n",
    "\n",
    "\n",
    "#### Realize as seguintes operações:\n",
    "\n",
    "1. Insira cinco registros na tabela \"loja\" com os seguintes dados:\n",
    "\n",
    "    Loja 1: \"Supermercado TudoBom\", endereço \"Rua Principal, 10\", produtos \"alimentos\";\n",
    "    Loja 2: \"Farmácia Saúde\", endereço \"Rua Principal, 15\", produtos \"remédios\";\n",
    "    Loja 3: \"Livros e Cia\", endereço \"Rua Principal, 20\", produtos \"livros\";\n",
    "    Loja 4: \"Eletrônicos Top\", endereço \"Rua Principal, 25\", produtos \"eletrônicos\";\n",
    "    Loja 5: \"Papelaria Legal\", endereço \"Rua Principal, 30\", produtos \"papelaria\".\n",
    "\n",
    "2. Atualize o endereço da loja \"Farmácia Saúde\" para \"Rua Principal, 16\" e altere o tipo de produto da loja \"Supermercado TudoBom\" para \"alimentos e bebidas\".\n",
    "\n",
    "3. Selecione todas as lojas que possuem \"Rua Principal\" no endereço e ordene o resultado por nome da loja em ordem alfabética.\n",
    "\n",
    "4. Selecione as lojas que têm \"alimentos\" ou \"papelaria\" como tipo de produto e que estão localizadas em endereços com números pares.\n",
    "\n",
    "5. Remova todas as lojas que possuem \"eletrônicos\" como tipo de produto e que estão localizadas em endereços com números ímpares.\n",
    "\n",
    "6. Encontre a quantidade de lojas para cada tipo de produto e exiba o resultado em ordem decrescente da quantidade de lojas."
   ]
  },
  {
   "attachments": {},
   "cell_type": "markdown",
   "metadata": {},
   "source": [
    "## Resposta (TENTAR FAZER ANTES!!!)"
   ]
  },
  {
   "cell_type": "code",
   "execution_count": null,
   "metadata": {},
   "outputs": [],
   "source": [
    "# 1\n",
    "'''\n",
    "INSERT INTO loja (id, nome, endereco, produtos) VALUES (1, 'Supermercado TudoBom', 'Rua Principal, 10', 'alimentos');\n",
    "INSERT INTO loja (id, nome, endereco, produtos) VALUES (2, 'Farmácia Saúde', 'Rua Principal, 15', 'remédios');\n",
    "INSERT INTO loja (id, nome, endereco, produtos) VALUES (3, 'Livros e Cia', 'Rua Principal, 20', 'livros');\n",
    "INSERT INTO loja (id, nome, endereco, produtos) VALUES (4, 'Eletrônicos Top', 'Rua Principal, 25', 'eletrônicos');\n",
    "INSERT INTO loja (id, nome, endereco, produtos) VALUES (5, 'Papelaria Legal', 'Rua Principal, 30', 'papelaria');\n",
    "'''"
   ]
  },
  {
   "cell_type": "code",
   "execution_count": 1,
   "metadata": {},
   "outputs": [
    {
     "data": {
      "text/plain": [
       "\"\\nUPDATE loja SET endereco = 'Rua Principal, 16' WHERE id = 2;\\nUPDATE loja SET produtos = 'alimentos e bebidas' WHERE id = 1;\\n\""
      ]
     },
     "execution_count": 1,
     "metadata": {},
     "output_type": "execute_result"
    }
   ],
   "source": [
    "# 2\n",
    "'''\n",
    "UPDATE loja SET endereco = 'Rua Principal, 16' WHERE id = 2;\n",
    "UPDATE loja SET produtos = 'alimentos e bebidas' WHERE id = 1;\n",
    "'''"
   ]
  },
  {
   "cell_type": "code",
   "execution_count": null,
   "metadata": {},
   "outputs": [],
   "source": [
    "# 3\n",
    "'''\n",
    "SELECT * FROM loja WHERE endereco LIKE 'Rua Principal%' ORDER BY nome;\n",
    "'''"
   ]
  },
  {
   "cell_type": "code",
   "execution_count": null,
   "metadata": {},
   "outputs": [],
   "source": [
    "# 4\n",
    "'''\n",
    "SELECT * FROM loja WHERE (produtos = 'alimentos' OR produtos = 'papelaria') AND CAST(SUBSTRING_INDEX(endereco, ',', -1) AS SIGNED) % 2 = 0;\n",
    "'''"
   ]
  },
  {
   "cell_type": "code",
   "execution_count": null,
   "metadata": {},
   "outputs": [],
   "source": [
    "# 5\n",
    "'''\n",
    "DELETE FROM loja WHERE produtos = 'eletrônicos' AND CAST(SUBSTRING_INDEX(endereco, ',', -1) AS SIGNED) % 2 = 1;\n",
    "'''"
   ]
  },
  {
   "cell_type": "code",
   "execution_count": null,
   "metadata": {},
   "outputs": [],
   "source": [
    "# 6\n",
    "'''\n",
    "SELECT produtos, COUNT(id) AS quantidade_lojas FROM loja GROUP BY produtos ORDER BY quantidade_lojas DESC;\n",
    "'''"
   ]
  }
 ],
 "metadata": {
  "kernelspec": {
   "display_name": "ultimaschool",
   "language": "python",
   "name": "python3"
  },
  "language_info": {
   "codemirror_mode": {
    "name": "ipython",
    "version": 3
   },
   "file_extension": ".py",
   "mimetype": "text/x-python",
   "name": "python",
   "nbconvert_exporter": "python",
   "pygments_lexer": "ipython3",
   "version": "3.10.9"
  },
  "orig_nbformat": 4
 },
 "nbformat": 4,
 "nbformat_minor": 2
}
