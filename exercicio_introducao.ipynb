{
 "cells": [
  {
   "attachments": {},
   "cell_type": "markdown",
   "metadata": {},
   "source": [
    "## Importando biblioteca"
   ]
  },
  {
   "cell_type": "code",
   "execution_count": null,
   "metadata": {},
   "outputs": [],
   "source": [
    "import sqlite3"
   ]
  },
  {
   "attachments": {},
   "cell_type": "markdown",
   "metadata": {},
   "source": [
    "## Criando conexao com nosso DB"
   ]
  },
  {
   "cell_type": "code",
   "execution_count": null,
   "metadata": {},
   "outputs": [],
   "source": [
    "conn = sqlite3.connect('ecommerce.db')\n",
    "cursor = conn.cursor()"
   ]
  },
  {
   "attachments": {},
   "cell_type": "markdown",
   "metadata": {},
   "source": [
    "## Criando as nossas tabelas do DB"
   ]
  },
  {
   "cell_type": "code",
   "execution_count": null,
   "metadata": {},
   "outputs": [],
   "source": [
    "cursor.execute('''\n",
    "               CREATE TABLE IF NOT EXISTS clientes (\n",
    "                  id INTEGER NOT NULL PRIMARY KEY AUTOINCREMENT,\n",
    "                  nome TEXT,\n",
    "                  email TEXT\n",
    "               )\n",
    "               '''\n",
    ")\n",
    "\n",
    "cursor.execute('''\n",
    "               CREATE TABLE IF NOT EXISTS pedidos (\n",
    "                  id INTEGER PRIMARY KEY,\n",
    "                  produto TEXT,\n",
    "                  valor REAL,\n",
    "                  cliente_id INTEGER,\n",
    "                  FOREIGN KEY(cliente_id) REFERENCES clientes(id)\n",
    "               )\n",
    "               '''\n",
    ")\n"
   ]
  },
  {
   "attachments": {},
   "cell_type": "markdown",
   "metadata": {},
   "source": [
    "## Inserindo valores nas nossas tabelas"
   ]
  },
  {
   "cell_type": "code",
   "execution_count": null,
   "metadata": {},
   "outputs": [],
   "source": [
    "cursor.execute(\"INSERT INTO clientes (nome, email) VALUES ('otavio', 'otavio@gmail.com')\")\n",
    "cursor.execute(\"INSERT INTO clientes (nome, email) VALUES (?, ?)\", ('danilo', 'danilo@hotmail.com'))\n",
    "\n",
    "produto = input('Qual o nome do produto?')\n",
    "valor = float(input('Qual o valor do produto?'))\n",
    "cliente_id = int(input('Qual o id do cliente que comprou?'))\n",
    "\n",
    "cursor.execute(\"INSERT INTO pedidos (produto, valor, cliente_id) VALUES (?, ?, ?)\", (produto, valor, cliente_id))\n",
    "\n",
    "conn.commit()"
   ]
  },
  {
   "attachments": {},
   "cell_type": "markdown",
   "metadata": {},
   "source": [
    "## Atualizando valores em nossa tabela"
   ]
  },
  {
   "cell_type": "code",
   "execution_count": null,
   "metadata": {},
   "outputs": [],
   "source": [
    "produto_update = input('Qual o nome do produto?')\n",
    "valor_update = float(input('Qual o valor do produto?'))\n",
    "cliente_id_update = int(input('Qual o id do cliente que comprou?'))\n",
    "id_update = int(input('Qual o id da compra que ira atualizar?'))\n",
    "\n",
    "cursor.execute('''\n",
    "            UPDATE pedidos\n",
    "            SET produto = ?, valor = ?, cliente_id = ?\n",
    "            WHERE id = ?\n",
    "            '''\n",
    "            ,(produto_update, valor_update, cliente_id_update, id_update)\n",
    ")\n",
    "\n",
    "conn.commit()"
   ]
  },
  {
   "attachments": {},
   "cell_type": "markdown",
   "metadata": {},
   "source": [
    "## Selecionando valores, utilizando where para filtrarmos"
   ]
  },
  {
   "cell_type": "code",
   "execution_count": null,
   "metadata": {},
   "outputs": [],
   "source": [
    "cursor.execute(''' \n",
    "               SELECT produto, valor\n",
    "               FROM pedidos\n",
    "               WHERE produto = 'Tênis' AND valor > 100\n",
    "            ''')\n",
    "\n",
    "resultados = cursor.fetchall()\n",
    "for resultado in resultados:\n",
    "    print(resultado)"
   ]
  },
  {
   "attachments": {},
   "cell_type": "markdown",
   "metadata": {},
   "source": [
    "## Deletando valores da nossa tabela"
   ]
  },
  {
   "cell_type": "code",
   "execution_count": null,
   "metadata": {},
   "outputs": [],
   "source": [
    "id_delete = input('Qual o id da compra que ira deletar?')\n",
    "\n",
    "cursor.execute('''DELETE FROM pedidos WHERE id=?''', (id_delete))\n",
    "conn.commit()\n",
    "conn.close()"
   ]
  }
 ],
 "metadata": {
  "language_info": {
   "name": "python"
  },
  "orig_nbformat": 4
 },
 "nbformat": 4,
 "nbformat_minor": 2
}
